{
 "cells": [
  {
   "cell_type": "code",
   "execution_count": 11,
   "metadata": {
    "collapsed": false
   },
   "outputs": [],
   "source": [
    "import os\n",
    "import glob\n",
    "import lasio\n",
    "\n",
    "# identify las files in directory\n",
    "dir = os.getcwd()\n",
    "las_ls = glob.glob(\"*.las\")\n"
   ]
  },
  {
   "cell_type": "code",
   "execution_count": 31,
   "metadata": {
    "collapsed": false
   },
   "outputs": [
    {
     "name": "stdout",
     "output_type": "stream",
     "text": [
      "CASN0001, CASN-1, CASTILLA NORTE, -73.62801, 3.87352\n",
      "CASN0001, CASN-1, CASTILLA NORTE, -73.62801, 3.87352\n"
     ]
    }
   ],
   "source": [
    "for i in range(len(las_ls)):\n",
    "    d = lasio.read(las_ls[0])\n",
    "    uwi = d.well[\"UWI\"].value\n",
    "    wlnam = d.well[\"WELL-NAME\"].value\n",
    "    fldnam = d.well[\"FIELD-NAME\"].value\n",
    "    long = str(d.well[\"LONG\"].value)\n",
    "    lati = str(d.well[\"LATI\"].value)\n",
    "    print(uwi + ', ' + wlnam + ', ' + fldnam  + ', ' +  long  + ', ' +  lati)"
   ]
  },
  {
   "cell_type": "code",
   "execution_count": null,
   "metadata": {
    "collapsed": true
   },
   "outputs": [],
   "source": []
  }
 ],
 "metadata": {
  "kernelspec": {
   "display_name": "Python 3",
   "language": "python",
   "name": "python3"
  },
  "language_info": {
   "codemirror_mode": {
    "name": "ipython",
    "version": 3
   },
   "file_extension": ".py",
   "mimetype": "text/x-python",
   "name": "python",
   "nbconvert_exporter": "python",
   "pygments_lexer": "ipython3",
   "version": "3.5.1"
  }
 },
 "nbformat": 4,
 "nbformat_minor": 0
}
